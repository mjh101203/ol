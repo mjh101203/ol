{
 "cells": [
  {
   "cell_type": "code",
   "execution_count": 7,
   "metadata": {},
   "outputs": [
    {
     "name": "stdout",
     "output_type": "stream",
     "text": [
      "8642\n"
     ]
    }
   ],
   "source": [
    "a, b = map(int, input().split())\n",
    "print(a+b)\n"
   ]
  },
  {
   "cell_type": "code",
   "execution_count": 8,
   "metadata": {},
   "outputs": [
    {
     "ename": "KeyboardInterrupt",
     "evalue": "Interrupted by user",
     "output_type": "error",
     "traceback": [
      "\u001b[0;31m---------------------------------------------------------------------------\u001b[0m",
      "\u001b[0;31mKeyboardInterrupt\u001b[0m                         Traceback (most recent call last)",
      "Cell \u001b[0;32mIn[8], line 1\u001b[0m\n\u001b[0;32m----> 1\u001b[0m a, b \u001b[39m=\u001b[39m \u001b[39mmap\u001b[39m(\u001b[39mint\u001b[39m, \u001b[39minput\u001b[39;49m()\u001b[39m.\u001b[39msplit())\n\u001b[1;32m      2\u001b[0m \u001b[39mprint\u001b[39m(a\u001b[39m+\u001b[39mb)\n\u001b[1;32m      3\u001b[0m \u001b[39mprint\u001b[39m(a\u001b[39m-\u001b[39mb)\n",
      "File \u001b[0;32m~/.local/lib/python3.10/site-packages/ipykernel/kernelbase.py:1191\u001b[0m, in \u001b[0;36mKernel.raw_input\u001b[0;34m(self, prompt)\u001b[0m\n\u001b[1;32m   1189\u001b[0m     msg \u001b[39m=\u001b[39m \u001b[39m\"\u001b[39m\u001b[39mraw_input was called, but this frontend does not support input requests.\u001b[39m\u001b[39m\"\u001b[39m\n\u001b[1;32m   1190\u001b[0m     \u001b[39mraise\u001b[39;00m StdinNotImplementedError(msg)\n\u001b[0;32m-> 1191\u001b[0m \u001b[39mreturn\u001b[39;00m \u001b[39mself\u001b[39;49m\u001b[39m.\u001b[39;49m_input_request(\n\u001b[1;32m   1192\u001b[0m     \u001b[39mstr\u001b[39;49m(prompt),\n\u001b[1;32m   1193\u001b[0m     \u001b[39mself\u001b[39;49m\u001b[39m.\u001b[39;49m_parent_ident[\u001b[39m\"\u001b[39;49m\u001b[39mshell\u001b[39;49m\u001b[39m\"\u001b[39;49m],\n\u001b[1;32m   1194\u001b[0m     \u001b[39mself\u001b[39;49m\u001b[39m.\u001b[39;49mget_parent(\u001b[39m\"\u001b[39;49m\u001b[39mshell\u001b[39;49m\u001b[39m\"\u001b[39;49m),\n\u001b[1;32m   1195\u001b[0m     password\u001b[39m=\u001b[39;49m\u001b[39mFalse\u001b[39;49;00m,\n\u001b[1;32m   1196\u001b[0m )\n",
      "File \u001b[0;32m~/.local/lib/python3.10/site-packages/ipykernel/kernelbase.py:1234\u001b[0m, in \u001b[0;36mKernel._input_request\u001b[0;34m(self, prompt, ident, parent, password)\u001b[0m\n\u001b[1;32m   1231\u001b[0m \u001b[39mexcept\u001b[39;00m \u001b[39mKeyboardInterrupt\u001b[39;00m:\n\u001b[1;32m   1232\u001b[0m     \u001b[39m# re-raise KeyboardInterrupt, to truncate traceback\u001b[39;00m\n\u001b[1;32m   1233\u001b[0m     msg \u001b[39m=\u001b[39m \u001b[39m\"\u001b[39m\u001b[39mInterrupted by user\u001b[39m\u001b[39m\"\u001b[39m\n\u001b[0;32m-> 1234\u001b[0m     \u001b[39mraise\u001b[39;00m \u001b[39mKeyboardInterrupt\u001b[39;00m(msg) \u001b[39mfrom\u001b[39;00m \u001b[39mNone\u001b[39m\n\u001b[1;32m   1235\u001b[0m \u001b[39mexcept\u001b[39;00m \u001b[39mException\u001b[39;00m:\n\u001b[1;32m   1236\u001b[0m     \u001b[39mself\u001b[39m\u001b[39m.\u001b[39mlog\u001b[39m.\u001b[39mwarning(\u001b[39m\"\u001b[39m\u001b[39mInvalid Message:\u001b[39m\u001b[39m\"\u001b[39m, exc_info\u001b[39m=\u001b[39m\u001b[39mTrue\u001b[39;00m)\n",
      "\u001b[0;31mKeyboardInterrupt\u001b[0m: Interrupted by user"
     ]
    }
   ],
   "source": [
    "a, b = map(int, input().split())\n",
    "print(a+b)\n",
    "print(a-b)\n",
    "print(a*b)\n",
    "print(a//b)\n",
    "print(a % b)\n"
   ]
  },
  {
   "cell_type": "code",
   "execution_count": null,
   "metadata": {},
   "outputs": [
    {
     "name": "stdout",
     "output_type": "stream",
     "text": [
      "joonas??!\n"
     ]
    }
   ],
   "source": [
    "a = input()\n",
    "print(a+\"??!\")\n"
   ]
  },
  {
   "cell_type": "code",
   "execution_count": null,
   "metadata": {},
   "outputs": [
    {
     "name": "stdout",
     "output_type": "stream",
     "text": [
      "1998\n"
     ]
    }
   ],
   "source": [
    "a = int(input())\n",
    "print(a - 543)\n"
   ]
  },
  {
   "cell_type": "code",
   "execution_count": null,
   "metadata": {},
   "outputs": [
    {
     "name": "stdout",
     "output_type": "stream",
     "text": [
      "1\n",
      "1\n",
      "0\n",
      "0\n"
     ]
    }
   ],
   "source": [
    "a, b, c = map(int, input().split())\n",
    "print((a+b) % c)\n",
    "print(((a % c) + (b % c)) % c)\n",
    "print((a*b) % c)\n",
    "print(((a % c) * (b % c)) % c)\n"
   ]
  },
  {
   "cell_type": "code",
   "execution_count": null,
   "metadata": {},
   "outputs": [
    {
     "name": "stdout",
     "output_type": "stream",
     "text": [
      "2360\n",
      "3776\n",
      "1416\n",
      "181720\n"
     ]
    }
   ],
   "source": [
    "a = int(input())\n",
    "b = int(input())\n",
    "print(a*(b % 10))\n",
    "print((a*(b % 100-b % 10))//10)\n",
    "print((a*(b-b % 100))//100)\n",
    "print(a*b)\n"
   ]
  },
  {
   "cell_type": "code",
   "execution_count": null,
   "metadata": {},
   "outputs": [
    {
     "name": "stdout",
     "output_type": "stream",
     "text": [
      "\\    /\\\n",
      " )  ( ')\n",
      "(  /  )\n",
      " \\(__)|\n"
     ]
    }
   ],
   "source": [
    "a = \"\"\"\\    /\\\\\n",
    " )  ( ')\n",
    "(  /  )\n",
    " \\(__)|\"\"\"\n",
    "print(a)\n"
   ]
  },
  {
   "cell_type": "code",
   "execution_count": null,
   "metadata": {},
   "outputs": [
    {
     "name": "stdout",
     "output_type": "stream",
     "text": [
      "|\\_/|\n",
      "|q p|   /}\n",
      "( 0 )\"\"\"\\\n",
      "|\"^\"`    |\n",
      "||_/=\\\\__|\n"
     ]
    }
   ],
   "source": [
    "a = \"\"\"|\\\\_/|\n",
    "|q p|   /}\n",
    "( 0 )\"\"\\\"\\\\\n",
    "|\"^\"`    |\n",
    "||_/=\\\\\\\\__|\"\"\"\n",
    "print(a)\n"
   ]
  },
  {
   "cell_type": "code",
   "execution_count": 10,
   "metadata": {},
   "outputs": [
    {
     "name": "stdout",
     "output_type": "stream",
     "text": [
      "'안녕하세\"요\"'\n"
     ]
    }
   ],
   "source": [
    "print(\"\"\"'안녕하세\"요\"'\"\"\")\n"
   ]
  },
  {
   "cell_type": "code",
   "execution_count": 14,
   "metadata": {},
   "outputs": [
    {
     "name": "stdout",
     "output_type": "stream",
     "text": [
      ">\n"
     ]
    }
   ],
   "source": [
    "a, b = map(int, input().split())\n",
    "if a > b:\n",
    "    print(\">\")\n",
    "elif a == b:\n",
    "    print(\"==\")\n",
    "else:\n",
    "    print(\"<\")\n"
   ]
  },
  {
   "cell_type": "code",
   "execution_count": 15,
   "metadata": {},
   "outputs": [
    {
     "name": "stdout",
     "output_type": "stream",
     "text": [
      "F\n"
     ]
    }
   ],
   "source": [
    "# 시험 점수를 입력받아 90 ~ 100점은 A, 80 ~ 89점은 B, 70 ~ 79점은 C, 60 ~ 69점은 D, 나머지 점수는 F를 출력하는 프로그램을 작성하시오.\n",
    "a = int(input())\n",
    "if a >= 90:\n",
    "    print(\"A\")\n",
    "elif a >= 80:\n",
    "    print(\"B\")\n",
    "elif a >= 70:\n",
    "    print(\"C\")\n",
    "elif a >= 60:\n",
    "    print(\"D\")\n",
    "else:\n",
    "    print(\"F\")\n"
   ]
  },
  {
   "cell_type": "code",
   "execution_count": 18,
   "metadata": {},
   "outputs": [
    {
     "name": "stdout",
     "output_type": "stream",
     "text": [
      "0\n"
     ]
    }
   ],
   "source": [
    "a = int(input())\n",
    "if a % 4 == 0:\n",
    "    if a % 100 == 0:\n",
    "        if a % 400 == 0:\n",
    "            print(\"1\")\n",
    "        else:\n",
    "            print(\"0\")\n",
    "    else:\n",
    "        print(\"1\")\n",
    "else:\n",
    "    print(\"0\")\n"
   ]
  },
  {
   "cell_type": "code",
   "execution_count": 21,
   "metadata": {},
   "outputs": [
    {
     "name": "stdout",
     "output_type": "stream",
     "text": [
      "22 55\n"
     ]
    }
   ],
   "source": [
    "a, b = map(int, input().split())\n",
    "if a == 0:\n",
    "    if b < 45:\n",
    "        print(23, 60+b-45)\n",
    "    else:\n",
    "        print(a, b-45)\n",
    "else:\n",
    "    if b < 45:\n",
    "        print(a-1, 60+b-45)\n",
    "    else:\n",
    "        print(a, b-45)\n"
   ]
  },
  {
   "cell_type": "code",
   "execution_count": 33,
   "metadata": {},
   "outputs": [
    {
     "name": "stdout",
     "output_type": "stream",
     "text": [
      "206 52\n"
     ]
    }
   ],
   "source": [
    "a, b = map(int, input().split())\n",
    "c = int(input())\n",
    "a += c // 60\n",
    "b += c % 60\n",
    "if b >= 60:\n",
    "    a += 1\n",
    "    b -= 60\n",
    "if a >= 24:\n",
    "    a -= 24\n",
    "print(a, b)\n"
   ]
  },
  {
   "cell_type": "code",
   "execution_count": 37,
   "metadata": {},
   "outputs": [
    {
     "name": "stdout",
     "output_type": "stream",
     "text": [
      "2 X 1 = 2\n",
      "2 X 2 = 4\n",
      "2 X 3 = 6\n",
      "2 X 4 = 8\n",
      "2 X 5 = 10\n",
      "2 X 6 = 12\n",
      "2 X 7 = 14\n",
      "2 X 8 = 16\n",
      "2 X 9 = 18\n"
     ]
    }
   ],
   "source": [
    "a = int(input())\n",
    "for i in range(1, 10):\n",
    "    print(a, \"X\", i, \"=\", a*i)\n"
   ]
  },
  {
   "cell_type": "code",
   "execution_count": 41,
   "metadata": {},
   "outputs": [
    {
     "name": "stdout",
     "output_type": "stream",
     "text": [
      "6\n"
     ]
    }
   ],
   "source": [
    "a = int(input())\n",
    "c = 0\n",
    "for i in range(1, a+1):\n",
    "    c += i\n",
    "print(c)\n"
   ]
  },
  {
   "cell_type": "code",
   "execution_count": 15,
   "metadata": {},
   "outputs": [
    {
     "name": "stdout",
     "output_type": "stream",
     "text": [
      "Case #1: 2\n",
      "Case #2: 4\n",
      "Case #3: 6\n",
      "Case #4: 8\n",
      "Case #5: 10\n"
     ]
    }
   ],
   "source": [
    "a = int(input())\n",
    "for i in range(1, a+1):\n",
    "    b, c = map(int, input().split())\n",
    "    print(f\"Case #{i}: {b+c}\")\n"
   ]
  },
  {
   "cell_type": "code",
   "execution_count": 1,
   "metadata": {},
   "outputs": [
    {
     "name": "stdout",
     "output_type": "stream",
     "text": [
      "longlonglonglonglonglonglonglonglonglonglonglong int\n"
     ]
    }
   ],
   "source": [
    "a = int(input())\n",
    "print(\"long \"*(a//4) + \"int\")\n"
   ]
  },
  {
   "cell_type": "code",
   "execution_count": 2,
   "metadata": {},
   "outputs": [
    {
     "name": "stdout",
     "output_type": "stream",
     "text": [
      "*****\n",
      "*****\n",
      "*****\n",
      "*****\n",
      "*****\n"
     ]
    }
   ],
   "source": [
    "a = int(input())\n",
    "for i in range(1, a+1):\n",
    "    print(\"*\"*i)\n"
   ]
  },
  {
   "cell_type": "code",
   "execution_count": 11,
   "metadata": {},
   "outputs": [
    {
     "name": "stdout",
     "output_type": "stream",
     "text": [
      "    *\n",
      "   **\n",
      "  ***\n",
      " ****\n",
      " *****\n"
     ]
    }
   ],
   "source": [
    "a = int(input())\n",
    "for i in range(1, a+1):\n",
    "    print(\" \"*(a-i)+\"*\"*i)\n"
   ]
  },
  {
   "cell_type": "code",
   "execution_count": 13,
   "metadata": {},
   "outputs": [
    {
     "ename": "NameError",
     "evalue": "name 'sys' is not defined",
     "output_type": "error",
     "traceback": [
      "\u001b[0;31m---------------------------------------------------------------------------\u001b[0m",
      "\u001b[0;31mNameError\u001b[0m                                 Traceback (most recent call last)",
      "Cell \u001b[0;32mIn[13], line 1\u001b[0m\n\u001b[0;32m----> 1\u001b[0m a \u001b[39m=\u001b[39m \u001b[39mint\u001b[39m(sys\u001b[39m.\u001b[39mstdin\u001b[39m.\u001b[39mreadline)\n\u001b[1;32m      2\u001b[0m \u001b[39mprint\u001b[39m(a)\n",
      "\u001b[0;31mNameError\u001b[0m: name 'sys' is not defined"
     ]
    }
   ],
   "source": [
    "a = int(sys.stdin.readline)\n",
    "print(a)\n"
   ]
  },
  {
   "cell_type": "code",
   "execution_count": 17,
   "metadata": {},
   "outputs": [
    {
     "name": "stdout",
     "output_type": "stream",
     "text": [
      "Case #1: 1+1=2\n",
      "Case #2: 2+3=5\n"
     ]
    },
    {
     "ename": "ValueError",
     "evalue": "not enough values to unpack (expected 2, got 1)",
     "output_type": "error",
     "traceback": [
      "\u001b[0;31m---------------------------------------------------------------------------\u001b[0m",
      "\u001b[0;31mValueError\u001b[0m                                Traceback (most recent call last)",
      "Cell \u001b[0;32mIn[17], line 3\u001b[0m\n\u001b[1;32m      1\u001b[0m a \u001b[39m=\u001b[39m \u001b[39mint\u001b[39m(\u001b[39minput\u001b[39m())\n\u001b[1;32m      2\u001b[0m \u001b[39mfor\u001b[39;00m i \u001b[39min\u001b[39;00m \u001b[39mrange\u001b[39m(\u001b[39m1\u001b[39m, a\u001b[39m+\u001b[39m\u001b[39m1\u001b[39m):\n\u001b[0;32m----> 3\u001b[0m     b , c \u001b[39m=\u001b[39m \u001b[39mmap\u001b[39m(\u001b[39mint\u001b[39m, \u001b[39minput\u001b[39m()\u001b[39m.\u001b[39msplit())\n\u001b[1;32m      4\u001b[0m     \u001b[39mprint\u001b[39m(\u001b[39mf\u001b[39m\u001b[39m\"\u001b[39m\u001b[39mCase #\u001b[39m\u001b[39m{\u001b[39;00mi\u001b[39m}\u001b[39;00m\u001b[39m: \u001b[39m\u001b[39m{\u001b[39;00mb\u001b[39m}\u001b[39;00m\u001b[39m+\u001b[39m\u001b[39m{\u001b[39;00mc\u001b[39m}\u001b[39;00m\u001b[39m=\u001b[39m\u001b[39m{\u001b[39;00mb\u001b[39m+\u001b[39mc\u001b[39m}\u001b[39;00m\u001b[39m\"\u001b[39m)\n",
      "\u001b[0;31mValueError\u001b[0m: not enough values to unpack (expected 2, got 1)"
     ]
    }
   ],
   "source": [
    "a = int(input())\n",
    "for i in range(1, a+1):\n",
    "    b, c = map(int, input().split())\n",
    "    print(f\"Case #{i}: {b} + {c} = {b+c}\")\n"
   ]
  },
  {
   "cell_type": "code",
   "execution_count": 34,
   "metadata": {},
   "outputs": [],
   "source": [
    "a = int(input())\n",
    "d = list(map(int, input().split()))\n",
    "e = int(input())\n",
    "b = 0\n",
    "c = 0\n",
    "for i in range(0, a):\n",
    "    b = d[i]\n",
    "    if b == e:\n",
    "        c += 1\n",
    "print(c)\n"
   ]
  },
  {
   "cell_type": "code",
   "execution_count": 35,
   "metadata": {},
   "outputs": [
    {
     "name": "stdout",
     "output_type": "stream",
     "text": [
      "4\n"
     ]
    }
   ],
   "source": [
    "a, b = map(int, input().split())\n",
    "d = list(map(int, input().split()))\n",
    "for i in d:\n",
    "    if i < b:\n",
    "        print(i)\n"
   ]
  },
  {
   "cell_type": "code",
   "execution_count": 37,
   "metadata": {},
   "outputs": [
    {
     "name": "stdout",
     "output_type": "stream",
     "text": [
      "7 35\n"
     ]
    }
   ],
   "source": [
    "a = input()\n",
    "l = list(map(int, input().split()))\n",
    "print(min(l), max(l))\n"
   ]
  },
  {
   "cell_type": "code",
   "execution_count": 44,
   "metadata": {},
   "outputs": [
    {
     "data": {
      "text/plain": [
       "[20, 18, 16, 14, 12, 10, 8, 6, 4, 2]"
      ]
     },
     "execution_count": 44,
     "metadata": {},
     "output_type": "execute_result"
    }
   ],
   "source": [
    "l = [1, 2, 3, 4, 5, 6, 7, 8, 9, 10, 11, 12, 13, 14, 15, 16, 17, 18, 19, 20]\n",
    "l[::-2]\n"
   ]
  },
  {
   "cell_type": "code",
   "execution_count": 5,
   "metadata": {},
   "outputs": [
    {
     "name": "stdout",
     "output_type": "stream",
     "text": [
      "90\n",
      "0\n"
     ]
    }
   ],
   "source": [
    "a = int(input())\n",
    "c = 1\n",
    "for i in range(1, 9):\n",
    "    b = int(input())\n",
    "    if a > b:\n",
    "        a = int(a)\n",
    "    else:\n",
    "        a = int(b)\n",
    "        c = i+1\n",
    "print(a)\n",
    "print(c)\n"
   ]
  },
  {
   "cell_type": "code",
   "execution_count": 29,
   "metadata": {},
   "outputs": [
    {
     "ename": "ValueError",
     "evalue": "not enough values to unpack (expected 2, got 0)",
     "output_type": "error",
     "traceback": [
      "\u001b[0;31m---------------------------------------------------------------------------\u001b[0m",
      "\u001b[0;31mValueError\u001b[0m                                Traceback (most recent call last)",
      "Cell \u001b[0;32mIn[29], line 1\u001b[0m\n\u001b[0;32m----> 1\u001b[0m n, m \u001b[39m=\u001b[39m \u001b[39mmap\u001b[39m(\u001b[39mint\u001b[39m, \u001b[39minput\u001b[39m()\u001b[39m.\u001b[39msplit())\n\u001b[1;32m      2\u001b[0m a \u001b[39m=\u001b[39m \u001b[39m0\u001b[39m\n\u001b[1;32m      3\u001b[0m l \u001b[39m=\u001b[39m \u001b[39mlist\u001b[39m(i \u001b[39mfor\u001b[39;00m i \u001b[39min\u001b[39;00m \u001b[39mrange\u001b[39m(\u001b[39m0\u001b[39m,n\u001b[39m+\u001b[39m\u001b[39m1\u001b[39m))\n",
      "\u001b[0;31mValueError\u001b[0m: not enough values to unpack (expected 2, got 0)"
     ]
    }
   ],
   "source": [
    "n, m = map(int, input().split())\n",
    "a = 0\n",
    "l = list(i for i in range(0, n+1))\n",
    "for _ in range(m):\n",
    "    i, j = map(int, input().split())\n",
    "    l[i], l[j] = l[j], l[i]\n",
    "print(*l[1:])\n"
   ]
  },
  {
   "cell_type": "code",
   "execution_count": 23,
   "metadata": {},
   "outputs": [
    {
     "name": "stdout",
     "output_type": "stream",
     "text": [
      "9\n",
      "22\n"
     ]
    }
   ],
   "source": [
    "l = list(range(1, 31))\n",
    "for _ in range(28):\n",
    "    a = int(input())\n",
    "    l.remove(a)\n",
    "print(min(l))\n",
    "print(max(l))\n"
   ]
  },
  {
   "cell_type": "code",
   "execution_count": 43,
   "metadata": {},
   "outputs": [
    {
     "ename": "TypeError",
     "evalue": "object of type 'int' has no len()",
     "output_type": "error",
     "traceback": [
      "\u001b[0;31m---------------------------------------------------------------------------\u001b[0m",
      "\u001b[0;31mTypeError\u001b[0m                                 Traceback (most recent call last)",
      "Cell \u001b[0;32mIn[43], line 5\u001b[0m\n\u001b[1;32m      3\u001b[0m     n \u001b[39m=\u001b[39m \u001b[39mint\u001b[39m(\u001b[39minput\u001b[39m())\n\u001b[1;32m      4\u001b[0m     s \u001b[39m=\u001b[39m n \u001b[39m%\u001b[39m \u001b[39m42\u001b[39m\n\u001b[0;32m----> 5\u001b[0m \u001b[39mprint\u001b[39m(\u001b[39mlen\u001b[39;49m(s))\n",
      "\u001b[0;31mTypeError\u001b[0m: object of type 'int' has no len()"
     ]
    }
   ],
   "source": [
    "s = set()\n",
    "for _ in range(10):\n",
    "    n = int(input())\n",
    "    s.add(n % 42)\n",
    "print(len(s))\n"
   ]
  },
  {
   "cell_type": "code",
   "execution_count": 54,
   "metadata": {},
   "outputs": [
    {
     "name": "stdout",
     "output_type": "stream",
     "text": [
      "3 4 1 2 5\n"
     ]
    }
   ],
   "source": [
    "N, M = map(int, input().split())\n",
    "l = list(range(1, N+1))\n",
    "O = []\n",
    "for i in range(0, M):\n",
    "    i, j = map(int, input().split())\n",
    "    O = l[i-1:j]\n",
    "    O.reverse()\n",
    "    l[i-1:j] = O\n",
    "print(*l)\n"
   ]
  },
  {
   "cell_type": "code",
   "execution_count": 55,
   "metadata": {},
   "outputs": [
    {
     "name": "stdout",
     "output_type": "stream",
     "text": [
      "i\n"
     ]
    }
   ],
   "source": [
    "s = input()\n",
    "n = int(input())\n",
    "print(s[n-1])\n"
   ]
  },
  {
   "cell_type": "code",
   "execution_count": 70,
   "metadata": {},
   "outputs": [
    {
     "name": "stdout",
     "output_type": "stream",
     "text": [
      "444\n",
      "666\n",
      "56100\n"
     ]
    }
   ],
   "source": [
    "n, m = list(map(int, input().split()))\n",
    "a, b = [], []\n",
    "for i in range(n):\n",
    "    a.append(list(map(int, input().split())))\n",
    "for i in range(n):\n",
    "    b.append(list(map(int, input().split())))\n",
    "for i in range(n):\n",
    "    for j in range(m):\n",
    "        print(a[i][j]+b[i][j], end=\" \")\n",
    "    print()\n"
   ]
  },
  {
   "cell_type": "code",
   "execution_count": 71,
   "metadata": {},
   "outputs": [
    {
     "ename": "ValueError",
     "evalue": "too many values to unpack (expected 2)",
     "output_type": "error",
     "traceback": [
      "\u001b[0;31m---------------------------------------------------------------------------\u001b[0m",
      "\u001b[0;31mValueError\u001b[0m                                Traceback (most recent call last)",
      "Cell \u001b[0;32mIn[71], line 1\u001b[0m\n\u001b[0;32m----> 1\u001b[0m a, b \u001b[39m=\u001b[39m \u001b[39mmax\u001b[39m(l[i][j])\n\u001b[1;32m      2\u001b[0m \u001b[39mprint\u001b[39m(a,b)\n",
      "\u001b[0;31mValueError\u001b[0m: too many values to unpack (expected 2)"
     ]
    }
   ],
   "source": []
  },
  {
   "cell_type": "code",
   "execution_count": 72,
   "metadata": {},
   "outputs": [
    {
     "name": "stdout",
     "output_type": "stream",
     "text": [
      "[87, 42, 18, 78, 53, 45, 18, 84, 53]\n",
      "0 0\n"
     ]
    }
   ],
   "source": [
    "l = []\n",
    "m = 0\n",
    "n = 0\n",
    "for _ in range(9):\n",
    "    t = list(map(int, input().split()))\n",
    "    l.append(t)\n",
    "for i in range(9):\n",
    "    for j in range(9):\n",
    "        if m and n < l[i][j]:\n",
    "            m, n = i, j\n",
    "print(max(l))\n",
    "print(m, n)\n"
   ]
  },
  {
   "cell_type": "code",
   "execution_count": 95,
   "metadata": {},
   "outputs": [
    {
     "ename": "TypeError",
     "evalue": "'<' not supported between instances of 'tuple' and 'int'",
     "output_type": "error",
     "traceback": [
      "\u001b[0;31m---------------------------------------------------------------------------\u001b[0m",
      "\u001b[0;31mTypeError\u001b[0m                                 Traceback (most recent call last)",
      "Cell \u001b[0;32mIn[95], line 3\u001b[0m\n\u001b[1;32m      1\u001b[0m a \u001b[39m=\u001b[39m \u001b[39mstr\u001b[39m(\u001b[39minput\u001b[39m())\n\u001b[1;32m      2\u001b[0m b \u001b[39m=\u001b[39m \u001b[39mint\u001b[39m(a)\n\u001b[0;32m----> 3\u001b[0m \u001b[39mwhile\u001b[39;00m i \u001b[39m<\u001b[39;49m b:\n\u001b[1;32m      4\u001b[0m     \u001b[39mfor\u001b[39;00m i \u001b[39min\u001b[39;00m \u001b[39mrange\u001b[39m(\u001b[39m1\u001b[39m, b \u001b[39m+\u001b[39m \u001b[39m1\u001b[39m):\n\u001b[1;32m      5\u001b[0m         n \u001b[39m=\u001b[39m \u001b[39msum\u001b[39m(\u001b[39mlist\u001b[39m(\u001b[39mmap\u001b[39m(\u001b[39mint\u001b[39m, \u001b[39mlist\u001b[39m(\u001b[39mstr\u001b[39m(i)))))\n",
      "\u001b[0;31mTypeError\u001b[0m: '<' not supported between instances of 'tuple' and 'int'"
     ]
    }
   ],
   "source": [
    "a = str(input())\n",
    "b = int(a)\n",
    "while i < b:\n",
    "    for i in range(1, b + 1):\n",
    "        n = sum(list(map(int, list(str(i)))))\n",
    "        if i + n == b:\n",
    "            print(i)\n",
    "            break\n",
    "    break\n"
   ]
  },
  {
   "cell_type": "code",
   "execution_count": 96,
   "metadata": {},
   "outputs": [
    {
     "ename": "KeyboardInterrupt",
     "evalue": "",
     "output_type": "error",
     "traceback": [
      "\u001b[0;31m---------------------------------------------------------------------------\u001b[0m",
      "\u001b[0;31mKeyboardInterrupt\u001b[0m                         Traceback (most recent call last)",
      "Cell \u001b[0;32mIn[96], line 5\u001b[0m\n\u001b[1;32m      3\u001b[0m b \u001b[39m=\u001b[39m \u001b[39m0\u001b[39m\n\u001b[1;32m      4\u001b[0m \u001b[39mfor\u001b[39;00m i \u001b[39min\u001b[39;00m \u001b[39mrange\u001b[39m(\u001b[39m1\u001b[39m, a\u001b[39m+\u001b[39m\u001b[39m1\u001b[39m):\n\u001b[0;32m----> 5\u001b[0m     n \u001b[39m=\u001b[39m \u001b[39msum\u001b[39;49m(\u001b[39mmap\u001b[39;49m(\u001b[39mint\u001b[39;49m, \u001b[39mstr\u001b[39;49m(i)))\n\u001b[1;32m      6\u001b[0m     \u001b[39mif\u001b[39;00m i \u001b[39m+\u001b[39m n \u001b[39m==\u001b[39m a:\n\u001b[1;32m      7\u001b[0m         b \u001b[39m=\u001b[39m i\n",
      "\u001b[0;31mKeyboardInterrupt\u001b[0m: "
     ]
    }
   ],
   "source": [
    "a = int(input())\n",
    "i = 0\n",
    "b = 0\n",
    "for i in range(1, a+1):\n",
    "    n = sum(map(int, str(i)))\n",
    "    if i + n == a:\n",
    "        b = i\n",
    "        break\n",
    "\n",
    "print(b)\n"
   ]
  },
  {
   "cell_type": "code",
   "execution_count": 53,
   "metadata": {},
   "outputs": [
    {
     "name": "stdout",
     "output_type": "stream",
     "text": [
      "-1 2\n"
     ]
    }
   ],
   "source": [
    "a, b, c, d, e, f = map(int, input().split())\n",
    "for x in range(-999, 1000):\n",
    "    for y in range(-999, 1000):\n",
    "        if a * x + b * y == c and d * x + e * y == f:\n",
    "            print(x, y)\n"
   ]
  },
  {
   "cell_type": "code",
   "execution_count": 69,
   "metadata": {},
   "outputs": [
    {
     "data": {
      "text/plain": [
       "[1, 2, 4, 5, 14, 15, 33, 34, 35, 41, 44, 51, 52, 234, 315, 423, 534, 542]"
      ]
     },
     "execution_count": 69,
     "metadata": {},
     "output_type": "execute_result"
    }
   ],
   "source": [
    "l = [33,423,44,5,234,2,52,14,315,41,51,34,1,542,35,15,4,534]\n",
    "l.sort()\n",
    "l"
   ]
  },
  {
   "cell_type": "code",
   "execution_count": 77,
   "metadata": {},
   "outputs": [
    {
     "data": {
      "text/plain": [
       "<map at 0x7f7de4262260>"
      ]
     },
     "execution_count": 77,
     "metadata": {},
     "output_type": "execute_result"
    }
   ],
   "source": [
    "print(*sorted(input(), reverse=True), sep=\"\")"
   ]
  },
  {
   "cell_type": "code",
   "execution_count": 5,
   "metadata": {},
   "outputs": [
    {
     "ename": "TypeError",
     "evalue": "'builtin_function_or_method' object is not iterable",
     "output_type": "error",
     "traceback": [
      "\u001b[0;31m---------------------------------------------------------------------------\u001b[0m",
      "\u001b[0;31mTypeError\u001b[0m                                 Traceback (most recent call last)",
      "Cell \u001b[0;32mIn[5], line 9\u001b[0m\n\u001b[1;32m      7\u001b[0m \u001b[39mfor\u001b[39;00m i, v \u001b[39min\u001b[39;00m \u001b[39menumerate\u001b[39m(l):\n\u001b[1;32m      8\u001b[0m     d[v] \u001b[39m=\u001b[39m i\n\u001b[0;32m----> 9\u001b[0m \u001b[39mfor\u001b[39;00m i \u001b[39min\u001b[39;00m ol:\n\u001b[1;32m     10\u001b[0m     \u001b[39mprint\u001b[39m(d[i], end\u001b[39m=\u001b[39m\u001b[39m\"\u001b[39m\u001b[39m \u001b[39m\u001b[39m\"\u001b[39m)\n",
      "\u001b[0;31mTypeError\u001b[0m: 'builtin_function_or_method' object is not iterable"
     ]
    }
   ],
   "source": [
    "n = input()\n",
    "l = list(map(int, input().split()))\n",
    "ol = l.copy\n",
    "l = set(l)\n",
    "l = sorted(l)\n",
    "d = {}\n",
    "for i, v in enumerate(l):\n",
    "    d[v] = i\n",
    "for i in ol:\n",
    "    print(d[i], end=\" \")"
   ]
  },
  {
   "cell_type": "code",
   "execution_count": 45,
   "metadata": {},
   "outputs": [
    {
     "data": {
      "text/plain": [
       "15"
      ]
     },
     "execution_count": 45,
     "metadata": {},
     "output_type": "execute_result"
    }
   ],
   "source": [
    "def r(n):\n",
    "    if n == 0 :\n",
    "        return 0\n",
    "    return n + r(n-1)\n",
    "r(5)"
   ]
  },
  {
   "cell_type": "code",
   "execution_count": 2,
   "metadata": {},
   "outputs": [
    {
     "name": "stdout",
     "output_type": "stream",
     "text": [
      "55 8\n"
     ]
    }
   ],
   "source": [
    "a = int(input())\n",
    "def fib(n):\n",
    "    d = {\n",
    "        1: 1,\n",
    "        2: 1\n",
    "    }\n",
    "    count = 0\n",
    "    for i in range(3, n+1):\n",
    "        count += 1\n",
    "        d[i] = d[i - 1] + d[i - 2]\n",
    "    return d[n], count\n",
    "print(*fib(a))"
   ]
  },
  {
   "cell_type": "code",
   "execution_count": 3,
   "metadata": {},
   "outputs": [
    {
     "data": {
      "text/plain": [
       "1024"
      ]
     },
     "execution_count": 3,
     "metadata": {},
     "output_type": "execute_result"
    }
   ],
   "source": [
    "def memo(f):\n",
    "    cache = {}\n",
    "\n",
    "    def helper(a, b, c):\n",
    "        if (a, b, c) not in cache:\n",
    "            cache[(a, b, c)] = f(a, b, c)\n",
    "        return cache[(a, b, c)]\n",
    "    return helper\n",
    "\n",
    "\n",
    "@memo\n",
    "def w(a, b, c):\n",
    "    if a <= 0 or b <= 0 or c <= 0:\n",
    "        return 1\n",
    "\n",
    "    if a > 20 or b > 20 or c > 20:\n",
    "        return w(20, 20, 20)\n",
    "\n",
    "    if a < b and b < c:\n",
    "        return w(a, b, c-1) + w(a, b-1, c-1) - w(a, b-1, c)\n",
    "\n",
    "    return w(a-1, b, c) + w(a-1, b-1, c) + w(a-1, b, c-1) - w(a-1, b-1, c-1)\n",
    "\n",
    "\n",
    "w(10, 10, 10)\n"
   ]
  }
 ],
 "metadata": {
  "kernelspec": {
   "display_name": "Python 3 (ipykernel)",
   "language": "python",
   "name": "python3"
  },
  "language_info": {
   "codemirror_mode": {
    "name": "ipython",
    "version": 3
   },
   "file_extension": ".py",
   "mimetype": "text/x-python",
   "name": "python",
   "nbconvert_exporter": "python",
   "pygments_lexer": "ipython3",
   "version": "3.10.4"
  },
  "orig_nbformat": 4
 },
 "nbformat": 4,
 "nbformat_minor": 2
}
